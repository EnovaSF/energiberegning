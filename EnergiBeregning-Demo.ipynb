{
 "cells": [
  {
   "cell_type": "markdown",
   "metadata": {},
   "source": [
    "# Demo av beregningskjerne for Energimerking.no\n",
    "\n",
    "Velg referanseberegning\n"
   ]
  },
  {
   "cell_type": "code",
   "execution_count": 9,
   "metadata": {
    "pycharm": {
     "name": "#%%\n"
    }
   },
   "outputs": [
    {
     "data": {
      "application/vnd.jupyter.widget-view+json": {
       "model_id": "e14617052cfb40f0aee0cbf2d0d098d3",
       "version_major": 2,
       "version_minor": 0
      },
      "text/plain": [
       "VBox(children=(Dropdown(description='Ref beregning:', options=(('TEK07 - Småhus', EnergiBeregning(areal_oppv=2…"
      ]
     },
     "metadata": {},
     "output_type": "display_data"
    },
    {
     "data": {
      "text/plain": [
       "Romoppvarming               11809.982403\n",
       "Ventilasjonsvarme             235.706250\n",
       "Varmtvann                    6000.000000\n",
       "Vifter                       1460.000000\n",
       "Pumper                         43.254151\n",
       "Belysning                    3400.000000\n",
       "Teknisk_utstyr               4600.000000\n",
       "Kjoeling                        0.000000\n",
       "Totalt_netto_energibehov    27548.942805\n",
       "Elektrisitet                15964.999884\n",
       "Olje                        11237.503797\n",
       "Gass                         2387.298027\n",
       "Fjernvarme                   4198.733908\n",
       "Biobrensel                      0.000000\n",
       "Annen_energivare                0.000000\n",
       "Totalt_levert_energi        33788.535616\n",
       "Primaerenergi               47613.272653\n",
       "CO2_utslipp                  9988.554864\n",
       "Energi_kostnader            26985.530494\n",
       "Energi_politisk             43526.413595\n",
       "dtype: float64"
      ]
     },
     "metadata": {},
     "output_type": "display_data"
    },
    {
     "data": {
      "text/plain": [
       "Romoppvarming                67894.416681\n",
       "Ventilasjonsvarme             2357.062500\n",
       "Varmtvann                    60000.000000\n",
       "Vifter                       20683.333333\n",
       "Pumper                         248.663823\n",
       "Belysning                    34000.000000\n",
       "Teknisk_utstyr               46000.000000\n",
       "Kjoeling                         0.000000\n",
       "Totalt_netto_energibehov    231183.476339\n",
       "Elektrisitet                141850.968251\n",
       "Olje                         66331.745136\n",
       "Gass                         16080.429529\n",
       "Fjernvarme                   29602.608905\n",
       "Biobrensel                       0.000000\n",
       "Annen_energivare                 0.000000\n",
       "Totalt_levert_energi        253865.751821\n",
       "Primaerenergi               361196.953601\n",
       "CO2_utslipp                  77207.668020\n",
       "Energi_kostnader            201521.102268\n",
       "Energi_politisk             321706.077343\n",
       "dtype: float64"
      ]
     },
     "metadata": {},
     "output_type": "display_data"
    },
    {
     "data": {
      "text/plain": [
       "Romoppvarming               10951.560549\n",
       "Ventilasjonsvarme               0.000000\n",
       "Varmtvann                    2000.000000\n",
       "Vifter                       5475.000000\n",
       "Pumper                         40.110175\n",
       "Belysning                    4200.000000\n",
       "Teknisk_utstyr               1000.000000\n",
       "Kjoeling                        0.000000\n",
       "Totalt_netto_energibehov    23666.670724\n",
       "Elektrisitet                15593.298154\n",
       "Olje                         5565.543071\n",
       "Gass                         1598.958092\n",
       "Fjernvarme                   2943.536488\n",
       "Biobrensel                      0.000000\n",
       "Annen_energivare                0.000000\n",
       "Totalt_levert_energi        25701.335806\n",
       "Primaerenergi               36757.433993\n",
       "CO2_utslipp                  7927.252656\n",
       "Energi_kostnader            20301.790925\n",
       "Energi_politisk             32229.631224\n",
       "dtype: float64"
      ]
     },
     "metadata": {},
     "output_type": "display_data"
    }
   ],
   "source": [
    "from IPython.core.display import display\n",
    "import ipywidgets as widgets\n",
    "from EnergiBeregning import EnergiBeregning\n",
    "import pprint\n",
    "import pandas as pd\n",
    "\n",
    "from reference_calculations.tek_07_smaahus import tek_07_smaahus\n",
    "from reference_calculations.tek_07_boligblokk import tek_07_boligblokk\n",
    "from reference_calculations.tek_07_barnehage import tek_07_barnehage\n",
    "from reference_calculations.tek_07_kontorbygg import tek_07_kontorbygg\n",
    "from reference_calculations.ashrae_besttest_600 import ashrae_besttest_600\n",
    "from reference_calculations.ashrae_besttest_610 import ashrae_besttest_610\n",
    "from reference_calculations.ashrae_besttest_620 import ashrae_besttest_620\n",
    "from reference_calculations.ashrae_besttest_630 import ashrae_besttest_630\n",
    "from reference_calculations.ashrae_besttest_640 import ashrae_besttest_640\n",
    "from reference_calculations.ashrae_besttest_650 import ashrae_besttest_650\n",
    "from reference_calculations.ashrae_besttest_900 import ashrae_besttest_900\n",
    "from reference_calculations.ashrae_besttest_910 import ashrae_besttest_910\n",
    "from reference_calculations.ashrae_besttest_920 import ashrae_besttest_920\n",
    "from reference_calculations.ashrae_besttest_930 import ashrae_besttest_930\n",
    "from reference_calculations.ashrae_besttest_940 import ashrae_besttest_940\n",
    "from reference_calculations.ashrae_besttest_950 import ashrae_besttest_950\n",
    "\n",
    "\n",
    "reference_calculation_dropdown = widgets.Dropdown(\n",
    "    options=[\n",
    "        (\"TEK07 - Småhus\", tek_07_smaahus),\n",
    "        (\"TEK07 - Boligblokk\", tek_07_boligblokk),\n",
    "        (\"TEK07 - Barnehage\", tek_07_barnehage),\n",
    "        (\"TEK07 - Kontorbygg\", tek_07_kontorbygg),\n",
    "        (\"ASHRAE BESTTEST - 600\", ashrae_besttest_600),\n",
    "        (\"ASHRAE BESTTEST - 610\", ashrae_besttest_610),\n",
    "        (\"ASHRAE BESTTEST - 620\", ashrae_besttest_620),\n",
    "        (\"ASHRAE BESTTEST - 630\", ashrae_besttest_630),\n",
    "        (\"ASHRAE BESTTEST - 640\", ashrae_besttest_640),\n",
    "        (\"ASHRAE BESTTEST - 650\", ashrae_besttest_650),\n",
    "        (\"ASHRAE BESTTEST - 900\", ashrae_besttest_900),\n",
    "        (\"ASHRAE BESTTEST - 910\", ashrae_besttest_910),\n",
    "        (\"ASHRAE BESTTEST - 920\", ashrae_besttest_920),\n",
    "        (\"ASHRAE BESTTEST - 930\", ashrae_besttest_930),\n",
    "        (\"ASHRAE BESTTEST - 940\", ashrae_besttest_940),\n",
    "        (\"ASHRAE BESTTEST - 950\", ashrae_besttest_950)\n",
    "             ],\n",
    "    value=tek_07_smaahus,\n",
    "    description='Ref beregning:',\n",
    "    disabled=False,\n",
    ")\n",
    "# some options\n",
    "\n",
    "\n",
    "# button, output, function and linkage\n",
    "butt = widgets.Button(description='Last referanseberegning')\n",
    "outt = widgets.Output()\n",
    "\n",
    "\n",
    "def on_butt_clicked(b):\n",
    "    outt.clear_output()\n",
    "    display(pd.Series(vars(reference_calculation_dropdown.value.calculate())))\n",
    "    # display(pd.Series(vars(ref)))\n",
    "\n",
    "butt.on_click(on_butt_clicked)\n",
    "widgets.VBox([reference_calculation_dropdown,\n",
    "              butt,\n",
    "              outt])"
   ]
  },
  {
   "cell_type": "code",
   "execution_count": null,
   "metadata": {},
   "outputs": [],
   "source": []
  }
 ],
 "metadata": {
  "celltoolbar": "Tags",
  "kernelspec": {
   "display_name": "Python 3 (ipykernel)",
   "language": "python",
   "name": "python3"
  },
  "language_info": {
   "codemirror_mode": {
    "name": "ipython",
    "version": 3
   },
   "file_extension": ".py",
   "mimetype": "text/x-python",
   "name": "python",
   "nbconvert_exporter": "python",
   "pygments_lexer": "ipython3",
   "version": "3.9.7"
  }
 },
 "nbformat": 4,
 "nbformat_minor": 2
}