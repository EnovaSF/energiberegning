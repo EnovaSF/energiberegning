{
 "cells": [
  {
   "cell_type": "markdown",
   "metadata": {},
   "source": [
    "# Enova EMS_Beregningskjerne (Brukerhistorie)\n",
    "Nima Darabi - Webstep - July & August 2021\n"
   ]
  },
  {
   "cell_type": "code",
   "execution_count": 1,
   "metadata": {},
   "outputs": [],
   "source": [
    "import networkx as nx\n",
    "import matplotlib.pyplot as plt\n",
    "import numpy as np"
   ]
  },
  {
   "cell_type": "code",
   "execution_count": 2,
   "metadata": {},
   "outputs": [],
   "source": [
    "# test  dummy data to visualize the excel dependence tree\n",
    "a=[('J50','Q215'), ('J51','Q215'), ('J53','Q215'), ('J54','Q215'), ('Q228','Q215'), ('Q46','Q215'), ('C197','Q215'), ('Q66','Q215'),\\\n",
    "('J50','Q216'), ('J51','Q216'), ('J53','Q216'), ('J54','Q216'), ('Q228','Q216'), ('Q47','Q216'), ('C198','Q216'), ('Q67','Q216'),\\\n",
    "('J50','Q217'), ('J51','Q217'), ('J53','Q217'), ('J54','Q217'), ('Q228','Q217'), ('Q48','Q217'), ('C199','Q217'), ('Q68','Q217'),\\\n",
    "('J50','Q218'), ('J51','Q218'), ('J53','Q218'), ('J54','Q218'), ('Q228','Q218'), ('Q49','Q218'), ('C200','Q218'), ('Q69','Q218'),\\\n",
    "('J50','Q219'), ('J51','Q219'), ('J53','Q219'), ('J54','Q219'), ('Q228','Q219'), ('Q50','Q219'), ('C201','Q219'), ('Q70','Q219'),\\\n",
    "('J50','Q220'), ('J51','Q220'), ('J53','Q220'), ('J54','Q220'), ('Q228','Q220'), ('Q51','Q220'), ('C202','Q220'), ('Q71','Q220'),\\\n",
    "('J50','Q221'), ('J51','Q221'), ('J53','Q221'), ('J54','Q221'), ('Q228','Q221'), ('Q52','Q221'), ('C203','Q221'), ('Q72','Q221'),\\\n",
    "('J50','Q222'), ('J51','Q222'), ('J53','Q222'), ('J54','Q222'), ('Q228','Q222'), ('Q53','Q222'), ('C204','Q222'), ('Q73','Q222'),\\\n",
    "('J50','Q223'), ('J51','Q223'), ('J53','Q223'), ('J54','Q223'), ('Q228','Q223'), ('Q54','Q223'), ('C205','Q223'), ('Q74','Q223'),\\\n",
    "('J50','Q224'), ('J51','Q224'), ('J53','Q224'), ('J54','Q224'), ('Q228','Q224'), ('Q55','Q224'), ('C206','Q224'), ('Q75','Q224'),\\\n",
    "('J50','Q225'), ('J51','Q225'), ('J53','Q225'), ('J54','Q225'), ('Q228','Q225'), ('Q56','Q225'), ('C207','Q225'), ('Q76','Q225'),\\\n",
    "('J50','Q226'), ('J51','Q226'), ('J53','Q226'), ('J54','Q226'), ('Q228','Q226'), ('Q57','Q226'), ('C208','Q226'), ('Q77','Q226'),\\\n",
    "('Q215','Q213'),('Q216','Q213'),('Q217','Q213'),('Q218','Q213'),('Q219','Q213'),('Q220','Q213'), ('Q221','Q213'),('Q222','Q213'),\\\n",
    "('Q223','Q213'),('Q224','Q213'),('Q225','Q213'),('Q226','Q213')]\n",
    "                                                                              \n",
    "b=[]"
   ]
  },
  {
   "cell_type": "code",
   "execution_count": 3,
   "metadata": {
    "scrolled": false
   },
   "outputs": [
    {
     "name": "stderr",
     "output_type": "stream",
     "text": [
      "/Users/nimadarabi/anaconda3/lib/python3.7/site-packages/networkx/drawing/nx_pylab.py:579: MatplotlibDeprecationWarning: \n",
      "The iterable function was deprecated in Matplotlib 3.1 and will be removed in 3.3. Use np.iterable instead.\n",
      "  if not cb.iterable(width):\n",
      "/Users/nimadarabi/anaconda3/lib/python3.7/site-packages/networkx/drawing/nx_pylab.py:676: MatplotlibDeprecationWarning: \n",
      "The iterable function was deprecated in Matplotlib 3.1 and will be removed in 3.3. Use np.iterable instead.\n",
      "  if cb.iterable(node_size):  # many node sizes\n"
     ]
    },
    {
     "data": {
      "image/png": "[encoded data removed]",
      "text/plain": [
       "<Figure size 432x288 with 1 Axes>"
      ]
     },
     "metadata": {},
     "output_type": "display_data"
    }
   ],
   "source": [
    "\n",
    "# make graph here\n",
    "edges = [(u,v,1) for (u,v) in a]\n",
    "G=nx.DiGraph()\n",
    "G.add_weighted_edges_from(edges)\n",
    "\n",
    "# plot nodes\n",
    "\n",
    "pos=nx.circular_layout(G)  \n",
    "pos=nx.random_layout(G) \n",
    "pos=nx.spring_layout(G) \n",
    "pos=nx.spectral_layout(G) \n",
    "\n",
    "nx.draw_networkx_nodes(G,pos,node_size=400, node_color='y')\n",
    "\n",
    "# plot edges\n",
    "nx.draw_networkx_edges(G,pos,edgelist=list(set(a) & set(b)),width=1,alpha=0.75,edge_color='k',style='solid') #dotted\n",
    "nx.draw_networkx_edges(G,pos,edgelist=list(set(a) - set(b)),width=1,alpha=0.75,edge_color='r',style='solid')\n",
    "nx.draw_networkx_edges(G,pos,edgelist=list(set(b) - set(a)),width=1,alpha=0.75,edge_color='g',style='solid')\n",
    "\n",
    "# save graph\n",
    "nx.draw_networkx_labels(G,pos,font_size=10,font_family='Times')\n",
    "plt.axis('off')\n",
    "plt.savefig(\"/Users/nimadarabi/Desktop/brukerhistorie.png\", dpi=300) # save as png\n",
    "plt.show() "
   ]
  },
  {
   "cell_type": "code",
   "execution_count": null,
   "metadata": {},
   "outputs": [],
   "source": []
  }
 ],
 "metadata": {
  "kernelspec": {
   "display_name": "Python 3",
   "language": "python",
   "name": "python3"
  },
  "language_info": {
   "codemirror_mode": {
    "name": "ipython",
    "version": 3
   },
   "file_extension": ".py",
   "mimetype": "text/x-python",
   "name": "python",
   "nbconvert_exporter": "python",
   "pygments_lexer": "ipython3",
   "version": "3.7.3"
  }
 },
 "nbformat": 4,
 "nbformat_minor": 2
}
