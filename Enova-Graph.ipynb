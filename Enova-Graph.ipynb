{
 "cells": [
  {
   "cell_type": "markdown",
   "metadata": {},
   "source": [
    "# Enova EMS_Beregningskjerne (Brukerhistorie)\n",
    "Nima Darabi - Webstep - July - September 2021\n"
   ]
  },
  {
   "cell_type": "code",
   "execution_count": 102,
   "metadata": {},
   "outputs": [],
   "source": [
    "import networkx as nx\n",
    "import matplotlib.pyplot as plt\n",
    "import re\n",
    "import random\n",
    "\n",
    "def writechildren (s):\n",
    "    for tuple in dependency_graph:\n",
    "        if s ==tuple[0]:\n",
    "            a.append(tuple)\n",
    "            if not tuple[1].isnumeric():\n",
    "                writechildren (tuple[1])\n",
    "\n",
    "def hierarchy_pos(G, root=None, width=1., vert_gap = 0.2, vert_loc = 0, xcenter = 0.5):\n",
    "    if not nx.is_tree(G):\n",
    "        raise TypeError('cannot use hierarchy_pos on a graph that is not a tree')\n",
    "    if root is None:\n",
    "        if isinstance(G, nx.DiGraph):\n",
    "            root = next(iter(nx.topological_sort(G)))  #allows back compatibility with nx version 1.11\n",
    "        else:\n",
    "            root = random.choice(list(G.nodes))\n",
    "    def _hierarchy_pos(G, root, width=1., vert_gap = 0.2, vert_loc = 0, xcenter = 0.5, pos = None, parent = None):\n",
    "        if pos is None:\n",
    "            pos = {root:(xcenter,vert_loc)}\n",
    "        else:\n",
    "            pos[root] = (xcenter, vert_loc)\n",
    "        children = list(G.neighbors(root))\n",
    "        if not isinstance(G, nx.DiGraph) and parent is not None:\n",
    "            children.remove(parent)\n",
    "        if len(children)!=0:\n",
    "            dx = width/len(children)\n",
    "            nextx = xcenter - width/2 - dx/2\n",
    "            for child in children:\n",
    "                nextx += dx\n",
    "                pos = _hierarchy_pos(G,child, width = dx, vert_gap = vert_gap,\n",
    "                                    vert_loc = vert_loc-vert_gap, xcenter=nextx,\n",
    "                                    pos=pos, parent = root)\n",
    "        return pos\n",
    "    return _hierarchy_pos(G, root, width, vert_gap, vert_loc, xcenter)"
   ]
  },
  {
   "cell_type": "code",
   "execution_count": 103,
   "metadata": {
    "scrolled": false
   },
   "outputs": [
    {
     "name": "stdout",
     "output_type": "stream",
     "text": [
      "2041\n"
     ]
    }
   ],
   "source": [
    "# Extract all relations\n",
    "filename = \"/Users/nimadarabi/Desktop/Projects/Enova/Energimerkeordningen/EnergiBeregning.py\"\n",
    "with open(filename) as file:\n",
    "    lines = file.readlines()\n",
    "    lines = [line.rstrip() for line in lines]\n",
    "\n",
    "dependency_graph = []\n",
    "\n",
    "allterminals = set([])\n",
    "allnonterminals = set([])\n",
    "alllines = set([])\n",
    "keywords = ['log','max','mean','nan', 'np','self', 'pi', 'sum', 'else', 'exp', 'if']\n",
    "\n",
    "namedict = {}\n",
    "reldict = {}\n",
    "for line in lines:\n",
    "    if line.find(\"=\") > -1:\n",
    "        line = line.strip()\n",
    "        index1 = line.find(\"=\")\n",
    "        after = line[index1+1: ]\n",
    "        cell = line[0 : index1-1]\n",
    "        if cell.find(\"#\") == -1:\n",
    "            index2 = after.find(\"#\")\n",
    "            formula = after[0:index2] if index2 > -1 else after[0:]\n",
    "            description = after[index2+1 : ]\n",
    "            namedict[cell] = description\n",
    "            nonterminal_pattern = '[A-Z]+[0-9]+'\n",
    "            terminal_pattern = '[a-zA-Z]+[a-zA-Z_0-9]*'\n",
    "            nonterminals = re.findall(nonterminal_pattern, formula)\n",
    "            terminals = re.findall(terminal_pattern, formula)\n",
    "            terminals = list(set(terminals) - set(keywords))\n",
    "            #re.findall('[a-zA-Z]+[a-zA-Z_0-9]*', ' self.energibehov_tappevann  ')\n",
    "            allterminals    = allterminals   .union(set(terminals))\n",
    "            allnonterminals = allnonterminals.union(set(nonterminals))\n",
    "            alllines = alllines.union(set([line]))\n",
    "            nextcells = nonterminals + terminals\n",
    "            for destination in nextcells:\n",
    "                if cell != destination:\n",
    "                    dependency_graph.append((cell, destination, line))\n",
    "dependency_graph = list(set(dependency_graph))\n",
    "print (len(dependency_graph))"
   ]
  },
  {
   "cell_type": "code",
   "execution_count": 104,
   "metadata": {
    "scrolled": false
   },
   "outputs": [
    {
     "name": "stdout",
     "output_type": "stream",
     "text": [
      "1\n"
     ]
    },
    {
     "data": {
      "text/plain": "<Figure size 432x288 with 1 Axes>",
      "image/png": "[encoded data removed]"
     },
     "metadata": {},
     "output_type": "display_data"
    }
   ],
   "source": [
    "# Extract the calculation of a given cell\n",
    "a = []\n",
    "writechildren ('Q247') # C20 C22 C49 term49 X64 Q254 Q247\n",
    "print (len(a))\n",
    "\n",
    "# Construct the graph\n",
    "edges = [(i[0],i[1],1) for i in a]\n",
    "if 0: print(*edges, sep='\\n')\n",
    "G=nx.DiGraph()\n",
    "G.add_weighted_edges_from(edges)\n",
    "\n",
    "#pos = hierarchy_pos(G,1)  # 1. local function solution\n",
    "#pos = graphviz_layout(T, prog=\"twopi\") # 2. pydot solution\n",
    "pos=nx.circular_layout(G) # 3. default solution\n",
    "pos=nx.random_layout(G) \n",
    "#pos=nx.spring_layout(G) \n",
    "#pos=nx.spectral_layout(G) \n",
    "\n",
    "\n",
    "nx.draw_networkx_nodes(G,pos,node_size=500, node_color='cyan')\n",
    "nx.draw_networkx_edges(G,pos,edgelist=a,width=1,alpha=0.75,edge_color='k',style='solid') #dotted\n",
    "\n",
    "# save graph\n",
    "nx.draw_networkx_labels(G,pos,font_size=10,font_family='Times')\n",
    "plt.axis('off')\n",
    "plt.savefig(\"/Users/nimadarabi/Desktop/brukerhistorie.png\", dpi=300) # save as png\n",
    "plt.show() "
   ]
  },
  {
   "cell_type": "code",
   "execution_count": 105,
   "metadata": {},
   "outputs": [],
   "source": [
    "# https://observablehq.com/@d3/force-directed-graph"
   ]
  },
  {
   "cell_type": "code",
   "execution_count": 105,
   "metadata": {},
   "outputs": [],
   "source": []
  }
 ],
 "metadata": {
  "kernelspec": {
   "display_name": "Python 3",
   "language": "python",
   "name": "python3"
  },
  "language_info": {
   "codemirror_mode": {
    "name": "ipython",
    "version": 3
   },
   "file_extension": ".py",
   "mimetype": "text/x-python",
   "name": "python",
   "nbconvert_exporter": "python",
   "pygments_lexer": "ipython3",
   "version": "3.7.3"
  }
 },
 "nbformat": 4,
 "nbformat_minor": 2
}